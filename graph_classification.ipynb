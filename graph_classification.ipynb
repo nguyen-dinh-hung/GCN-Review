{
 "cells": [
  {
   "cell_type": "markdown",
   "metadata": {},
   "source": [
    "# <span style=\"color:#0b486b\">This note summarizes approaches for disease condition prediction problems.</span>\n",
    "\n",
    "## <span style=\"color:#0b486b\">I. Naive approaches</span>\n",
    "\n",
    "### <span style=\"color:#0b486b\">I.1 Logistic regression</span>\n",
    "\n",
    "$$\n",
    "P(y=1|\\boldsymbol{X})=\\frac{1}{1+exp(\\boldsymbol{W}^{T}\\boldsymbol{X})}\n",
    "$$\n",
    "\n",
    "where $\\boldsymbol{X}$ is training sample and $y$ is training label."
   ]
  },
  {
   "cell_type": "code",
   "execution_count": 1,
   "metadata": {
    "collapsed": true
   },
   "outputs": [],
   "source": [
    "# Load dataset and do some statistics\n",
    "import numpy as np\n",
    "import pandas as pd\n",
    "\n",
    "df = pd.read_csv('data/GSE97356.csv')"
   ]
  },
  {
   "cell_type": "code",
   "execution_count": 2,
   "metadata": {
    "collapsed": false
   },
   "outputs": [
    {
     "data": {
      "text/html": [
       "<div>\n",
       "<table border=\"1\" class=\"dataframe\">\n",
       "  <thead>\n",
       "    <tr style=\"text-align: right;\">\n",
       "      <th></th>\n",
       "      <th>A1BG</th>\n",
       "      <th>ABHD17A</th>\n",
       "      <th>ABI2</th>\n",
       "      <th>ACER3</th>\n",
       "      <th>ADAM20</th>\n",
       "      <th>ADAM9</th>\n",
       "      <th>AGFG1</th>\n",
       "      <th>AKAP13</th>\n",
       "      <th>AKR7A2</th>\n",
       "      <th>AKT1</th>\n",
       "      <th>...</th>\n",
       "      <th>ZNF16</th>\n",
       "      <th>ZNF263</th>\n",
       "      <th>ZNF324B</th>\n",
       "      <th>ZNF428</th>\n",
       "      <th>ZNF439</th>\n",
       "      <th>ZNF48</th>\n",
       "      <th>ZNF747</th>\n",
       "      <th>ZNF81</th>\n",
       "      <th>ZSCAN18</th>\n",
       "      <th>condition</th>\n",
       "    </tr>\n",
       "  </thead>\n",
       "  <tbody>\n",
       "    <tr>\n",
       "      <th>0</th>\n",
       "      <td>22</td>\n",
       "      <td>255</td>\n",
       "      <td>141</td>\n",
       "      <td>393</td>\n",
       "      <td>37</td>\n",
       "      <td>191</td>\n",
       "      <td>1109</td>\n",
       "      <td>4659</td>\n",
       "      <td>48</td>\n",
       "      <td>434</td>\n",
       "      <td>...</td>\n",
       "      <td>37</td>\n",
       "      <td>84</td>\n",
       "      <td>16</td>\n",
       "      <td>32</td>\n",
       "      <td>23</td>\n",
       "      <td>148</td>\n",
       "      <td>15</td>\n",
       "      <td>230</td>\n",
       "      <td>90</td>\n",
       "      <td>0</td>\n",
       "    </tr>\n",
       "    <tr>\n",
       "      <th>1</th>\n",
       "      <td>68</td>\n",
       "      <td>713</td>\n",
       "      <td>488</td>\n",
       "      <td>1075</td>\n",
       "      <td>117</td>\n",
       "      <td>577</td>\n",
       "      <td>3343</td>\n",
       "      <td>14783</td>\n",
       "      <td>150</td>\n",
       "      <td>1266</td>\n",
       "      <td>...</td>\n",
       "      <td>95</td>\n",
       "      <td>332</td>\n",
       "      <td>72</td>\n",
       "      <td>76</td>\n",
       "      <td>127</td>\n",
       "      <td>563</td>\n",
       "      <td>90</td>\n",
       "      <td>765</td>\n",
       "      <td>227</td>\n",
       "      <td>0</td>\n",
       "    </tr>\n",
       "    <tr>\n",
       "      <th>2</th>\n",
       "      <td>51</td>\n",
       "      <td>941</td>\n",
       "      <td>403</td>\n",
       "      <td>879</td>\n",
       "      <td>73</td>\n",
       "      <td>340</td>\n",
       "      <td>2267</td>\n",
       "      <td>10949</td>\n",
       "      <td>142</td>\n",
       "      <td>1136</td>\n",
       "      <td>...</td>\n",
       "      <td>88</td>\n",
       "      <td>291</td>\n",
       "      <td>65</td>\n",
       "      <td>95</td>\n",
       "      <td>76</td>\n",
       "      <td>598</td>\n",
       "      <td>71</td>\n",
       "      <td>594</td>\n",
       "      <td>231</td>\n",
       "      <td>0</td>\n",
       "    </tr>\n",
       "    <tr>\n",
       "      <th>3</th>\n",
       "      <td>37</td>\n",
       "      <td>447</td>\n",
       "      <td>349</td>\n",
       "      <td>770</td>\n",
       "      <td>67</td>\n",
       "      <td>339</td>\n",
       "      <td>1785</td>\n",
       "      <td>8909</td>\n",
       "      <td>88</td>\n",
       "      <td>792</td>\n",
       "      <td>...</td>\n",
       "      <td>74</td>\n",
       "      <td>203</td>\n",
       "      <td>45</td>\n",
       "      <td>56</td>\n",
       "      <td>87</td>\n",
       "      <td>284</td>\n",
       "      <td>49</td>\n",
       "      <td>411</td>\n",
       "      <td>140</td>\n",
       "      <td>0</td>\n",
       "    </tr>\n",
       "    <tr>\n",
       "      <th>4</th>\n",
       "      <td>26</td>\n",
       "      <td>278</td>\n",
       "      <td>187</td>\n",
       "      <td>587</td>\n",
       "      <td>39</td>\n",
       "      <td>301</td>\n",
       "      <td>1455</td>\n",
       "      <td>6900</td>\n",
       "      <td>71</td>\n",
       "      <td>626</td>\n",
       "      <td>...</td>\n",
       "      <td>41</td>\n",
       "      <td>114</td>\n",
       "      <td>33</td>\n",
       "      <td>37</td>\n",
       "      <td>51</td>\n",
       "      <td>188</td>\n",
       "      <td>30</td>\n",
       "      <td>361</td>\n",
       "      <td>146</td>\n",
       "      <td>0</td>\n",
       "    </tr>\n",
       "  </tbody>\n",
       "</table>\n",
       "<p>5 rows × 449 columns</p>\n",
       "</div>"
      ],
      "text/plain": [
       "   A1BG  ABHD17A  ABI2  ACER3  ADAM20  ADAM9  AGFG1  AKAP13  AKR7A2  AKT1  \\\n",
       "0    22      255   141    393      37    191   1109    4659      48   434   \n",
       "1    68      713   488   1075     117    577   3343   14783     150  1266   \n",
       "2    51      941   403    879      73    340   2267   10949     142  1136   \n",
       "3    37      447   349    770      67    339   1785    8909      88   792   \n",
       "4    26      278   187    587      39    301   1455    6900      71   626   \n",
       "\n",
       "     ...      ZNF16  ZNF263  ZNF324B  ZNF428  ZNF439  ZNF48  ZNF747  ZNF81  \\\n",
       "0    ...         37      84       16      32      23    148      15    230   \n",
       "1    ...         95     332       72      76     127    563      90    765   \n",
       "2    ...         88     291       65      95      76    598      71    594   \n",
       "3    ...         74     203       45      56      87    284      49    411   \n",
       "4    ...         41     114       33      37      51    188      30    361   \n",
       "\n",
       "   ZSCAN18  condition  \n",
       "0       90          0  \n",
       "1      227          0  \n",
       "2      231          0  \n",
       "3      140          0  \n",
       "4      146          0  \n",
       "\n",
       "[5 rows x 449 columns]"
      ]
     },
     "execution_count": 2,
     "metadata": {},
     "output_type": "execute_result"
    }
   ],
   "source": [
    "df.head()"
   ]
  },
  {
   "cell_type": "code",
   "execution_count": 3,
   "metadata": {
    "collapsed": false
   },
   "outputs": [],
   "source": [
    "# get features and labels\n",
    "X = df.iloc[:,:-1].values\n",
    "y = df.iloc[:,-1].values"
   ]
  },
  {
   "cell_type": "code",
   "execution_count": 4,
   "metadata": {
    "collapsed": false
   },
   "outputs": [
    {
     "name": "stdout",
     "output_type": "stream",
     "text": [
      "#Samples:  282\n",
      "#Features:  448\n",
      "#Classes:  2\n",
      "#Samples of class 0: 201\n",
      "#Samples of class 1: 81\n"
     ]
    }
   ],
   "source": [
    "print('#Samples: ',len(df))\n",
    "print('#Features: ', X.shape[1])\n",
    "print('#Classes: ', len(np.unique(y)))\n",
    "for label in np.unique(y):\n",
    "    print('#Samples of class %s: %d' % (label, len(y[np.where(y==label)])))"
   ]
  },
  {
   "cell_type": "code",
   "execution_count": 5,
   "metadata": {
    "collapsed": false
   },
   "outputs": [
    {
     "name": "stdout",
     "output_type": "stream",
     "text": [
      "AUC:\t0.572 (+-0.070)\n",
      "F1:\t0.366 (+-0.123)\n",
      "Acc:\t0.666 (+-0.066)\n"
     ]
    }
   ],
   "source": [
    "# using simple classification method: logistic regression\n",
    "# for less biased result we do 10-fold cross validation and get mean values\n",
    "# regular CV is KFold: data will be randomly split into k folds\n",
    "\n",
    "from sklearn.linear_model import LogisticRegression\n",
    "from sklearn.model_selection import KFold\n",
    "from utils.evaluation import *\n",
    "\n",
    "# init the model\n",
    "logistic_reg = LogisticRegression()\n",
    "\n",
    "# set 10-fold regular CV\n",
    "kfold = KFold(10, True, 1)\n",
    "\n",
    "scores = []\n",
    "for train_idx, test_idx in kfold.split(X):\n",
    "    # split data into train and test\n",
    "    X_train, X_test = X[train_idx], X[test_idx] \n",
    "    y_train, y_test = y[train_idx], y[test_idx]\n",
    "    \n",
    "    # fit the model with train data\n",
    "    logistic_reg.fit(X_train, y_train)\n",
    "    # make prediction\n",
    "    preds = logistic_reg.predict(X_test)\n",
    "    scores.append(evaluate(preds, y_test))\n",
    "\n",
    "mean_scores = np.mean(scores, axis=0)\n",
    "std = np.std(scores, axis=0)\n",
    "\n",
    "# print prediction results\n",
    "print('AUC:\\t%.3f (+-%.3f)' % (mean_scores[0], std[0]))\n",
    "print('F1:\\t%.3f (+-%.3f)' % (mean_scores[1], std[1]))\n",
    "print('Acc:\\t%.3f (+-%.3f)' % (mean_scores[2], std[2]))"
   ]
  },
  {
   "cell_type": "code",
   "execution_count": 6,
   "metadata": {
    "collapsed": false
   },
   "outputs": [
    {
     "name": "stdout",
     "output_type": "stream",
     "text": [
      "AUC:\t0.542 (+-0.107)\n",
      "F1:\t0.317 (+-0.119)\n",
      "Acc:\t0.617 (+-0.114)\n"
     ]
    }
   ],
   "source": [
    "# try with Stratified cross validation: \n",
    "# the entire dataset will be split such that each fold is a good representative of the whole\n",
    "from sklearn.model_selection import StratifiedKFold\n",
    "\n",
    "# init the model\n",
    "logistic_reg = LogisticRegression()\n",
    "\n",
    "# set 10-fold stratified CV\n",
    "skfold = StratifiedKFold(10, random_state=None)\n",
    "\n",
    "scores = []\n",
    "\n",
    "for train_idx, test_idx in skfold.split(X, y):\n",
    "    # split data into train and test\n",
    "    X_train, X_test = X[train_idx], X[test_idx] \n",
    "    y_train, y_test = y[train_idx], y[test_idx]\n",
    "    \n",
    "    # fit the model with train data\n",
    "    logistic_reg.fit(X_train, y_train)\n",
    "    # make prediction\n",
    "    preds = logistic_reg.predict(X_test)\n",
    "    scores.append(evaluate(preds, y_test))\n",
    "\n",
    "mean_scores = np.mean(scores, axis=0)\n",
    "std = np.std(scores, axis=0)\n",
    "\n",
    "# print prediction results\n",
    "print('AUC:\\t%.3f (+-%.3f)' % (mean_scores[0], std[0]))\n",
    "print('F1:\\t%.3f (+-%.3f)' % (mean_scores[1], std[1]))\n",
    "print('Acc:\\t%.3f (+-%.3f)' % (mean_scores[2], std[2]))"
   ]
  },
  {
   "cell_type": "code",
   "execution_count": null,
   "metadata": {
    "collapsed": true
   },
   "outputs": [],
   "source": []
  }
 ],
 "metadata": {
  "kernelspec": {
   "display_name": "Python 3",
   "language": "python",
   "name": "python3"
  },
  "language_info": {
   "codemirror_mode": {
    "name": "ipython",
    "version": 3
   },
   "file_extension": ".py",
   "mimetype": "text/x-python",
   "name": "python",
   "nbconvert_exporter": "python",
   "pygments_lexer": "ipython3",
   "version": "3.6.5"
  }
 },
 "nbformat": 4,
 "nbformat_minor": 2
}
